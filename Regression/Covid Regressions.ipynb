{
 "cells": [
  {
   "cell_type": "code",
   "execution_count": 1,
   "metadata": {},
   "outputs": [],
   "source": [
    "import pandas as pd\n",
    "from sklearn.linear_model import LinearRegression\n",
    "import statsmodels.formula.api as smf\n",
    "from patsy import dmatrices\n",
    "from statsmodels.stats.outliers_influence import variance_inflation_factor\n",
    "from functools import reduce"
   ]
  },
  {
   "cell_type": "code",
   "execution_count": 2,
   "metadata": {},
   "outputs": [
    {
     "name": "stderr",
     "output_type": "stream",
     "text": [
      "C:\\Users\\Earl\\Anaconda3\\lib\\site-packages\\IPython\\core\\interactiveshell.py:3057: DtypeWarning: Columns (2,3,4,6,7,8,9,10,11,12,13,14,15,16,17,18,19,20,21,22,23,24,25,26,27,28,29,30,31,32,38,39,40,42,43,44,45,46,47,48,49,50,51,52,53,54,55,56,58,59,62,63,64,66,67,70,71,72,74,75,78,79,82,83,86,87,90,91,94,95,102,103,104,106,107,110,111,114,115,118,119,122,123,126,127,128,130,131,134,135,138,139,142,143,146,147,150,151,154,155,158,159,162,163,166,167,170,171,174,175,178,179,182,183,184,186,187,190,191,194,195,198,199,202,203,204,206,207,210,211,214,215,218,219,222,223,226,227,230,231,234,235,238,239,242,243,254,255,262,263,270,271,278,279,286,287,294,295,298,299,300,302,303,306,307,310,311,314,315,318,319,322,323,326,327,330,331,334,335,338,339,354,355,356,384,385,388,389,392,393,396,397,406,407,408,410,411,412,414,415,416,418,419,422,423,426,427,430,431,434,435,436,438,439,442,443,446,447,450,451,454,455,456,458,459,462,463,466,467,470,471,512,513,532,533) have mixed types. Specify dtype option on import or set low_memory=False.\n",
      "  interactivity=interactivity, compiler=compiler, result=result)\n"
     ]
    }
   ],
   "source": [
    "data = pd.read_csv('zipcode_data.csv')\n",
    "covid = pd.read_csv('data-by-modzcta.csv')"
   ]
  },
  {
   "cell_type": "code",
   "execution_count": 3,
   "metadata": {},
   "outputs": [
    {
     "data": {
      "text/plain": [
       "(177, 10)"
      ]
     },
     "execution_count": 3,
     "metadata": {},
     "output_type": "execute_result"
    }
   ],
   "source": [
    "covid.shape"
   ]
  },
  {
   "cell_type": "code",
   "execution_count": 4,
   "metadata": {},
   "outputs": [],
   "source": [
    "# zipcodes = ['11201','11203','11204','11205','11206','11207','11208','11209','11210','11211','11212','11213','11214',\n",
    "#             '11215','11216','11217','11218','11219','11220','11221','11222','11223','11224','11225','11226','11228',\n",
    "#             '11229','11230','11231','11232','11233','11234','11235','11236','11237','11238','11239','11249','11251']"
   ]
  },
  {
   "cell_type": "code",
   "execution_count": 5,
   "metadata": {},
   "outputs": [
    {
     "data": {
      "text/html": [
       "<div>\n",
       "<style scoped>\n",
       "    .dataframe tbody tr th:only-of-type {\n",
       "        vertical-align: middle;\n",
       "    }\n",
       "\n",
       "    .dataframe tbody tr th {\n",
       "        vertical-align: top;\n",
       "    }\n",
       "\n",
       "    .dataframe thead th {\n",
       "        text-align: right;\n",
       "    }\n",
       "</style>\n",
       "<table border=\"1\" class=\"dataframe\">\n",
       "  <thead>\n",
       "    <tr style=\"text-align: right;\">\n",
       "      <th></th>\n",
       "      <th>id</th>\n",
       "      <th>Geographic Area Name</th>\n",
       "      <th>Estimate!!EMPLOYMENT STATUS!!Population 16 years and over</th>\n",
       "      <th>Margin of Error!!EMPLOYMENT STATUS!!Population 16 years and over</th>\n",
       "      <th>Percent Estimate!!EMPLOYMENT STATUS!!Population 16 years and over</th>\n",
       "      <th>Percent Margin of Error!!EMPLOYMENT STATUS!!Population 16 years and over</th>\n",
       "      <th>Estimate!!EMPLOYMENT STATUS!!Population 16 years and over!!In labor force</th>\n",
       "      <th>Margin of Error!!EMPLOYMENT STATUS!!Population 16 years and over!!In labor force</th>\n",
       "      <th>Percent Estimate!!EMPLOYMENT STATUS!!Population 16 years and over!!In labor force</th>\n",
       "      <th>Percent Margin of Error!!EMPLOYMENT STATUS!!Population 16 years and over!!In labor force</th>\n",
       "      <th>...</th>\n",
       "      <th>Percent Estimate!!PERCENTAGE OF FAMILIES AND PEOPLE WHOSE INCOME IN THE PAST 12 MONTHS IS BELOW THE POVERTY LEVEL!!All people!!18 years and over!!65 years and over</th>\n",
       "      <th>Percent Margin of Error!!PERCENTAGE OF FAMILIES AND PEOPLE WHOSE INCOME IN THE PAST 12 MONTHS IS BELOW THE POVERTY LEVEL!!All people!!18 years and over!!65 years and over</th>\n",
       "      <th>Estimate!!PERCENTAGE OF FAMILIES AND PEOPLE WHOSE INCOME IN THE PAST 12 MONTHS IS BELOW THE POVERTY LEVEL!!People in families</th>\n",
       "      <th>Margin of Error!!PERCENTAGE OF FAMILIES AND PEOPLE WHOSE INCOME IN THE PAST 12 MONTHS IS BELOW THE POVERTY LEVEL!!People in families</th>\n",
       "      <th>Percent Estimate!!PERCENTAGE OF FAMILIES AND PEOPLE WHOSE INCOME IN THE PAST 12 MONTHS IS BELOW THE POVERTY LEVEL!!People in families</th>\n",
       "      <th>Percent Margin of Error!!PERCENTAGE OF FAMILIES AND PEOPLE WHOSE INCOME IN THE PAST 12 MONTHS IS BELOW THE POVERTY LEVEL!!People in families</th>\n",
       "      <th>Estimate!!PERCENTAGE OF FAMILIES AND PEOPLE WHOSE INCOME IN THE PAST 12 MONTHS IS BELOW THE POVERTY LEVEL!!Unrelated individuals 15 years and over</th>\n",
       "      <th>Margin of Error!!PERCENTAGE OF FAMILIES AND PEOPLE WHOSE INCOME IN THE PAST 12 MONTHS IS BELOW THE POVERTY LEVEL!!Unrelated individuals 15 years and over</th>\n",
       "      <th>Percent Estimate!!PERCENTAGE OF FAMILIES AND PEOPLE WHOSE INCOME IN THE PAST 12 MONTHS IS BELOW THE POVERTY LEVEL!!Unrelated individuals 15 years and over</th>\n",
       "      <th>Percent Margin of Error!!PERCENTAGE OF FAMILIES AND PEOPLE WHOSE INCOME IN THE PAST 12 MONTHS IS BELOW THE POVERTY LEVEL!!Unrelated individuals 15 years and over</th>\n",
       "    </tr>\n",
       "  </thead>\n",
       "  <tbody>\n",
       "    <tr>\n",
       "      <th>0</th>\n",
       "      <td>8600000US00601</td>\n",
       "      <td>ZCTA5 00601</td>\n",
       "      <td>13924</td>\n",
       "      <td>280</td>\n",
       "      <td>13924</td>\n",
       "      <td>(X)</td>\n",
       "      <td>5811</td>\n",
       "      <td>454</td>\n",
       "      <td>41.7</td>\n",
       "      <td>3.2</td>\n",
       "      <td>...</td>\n",
       "      <td>59.9</td>\n",
       "      <td>5.8</td>\n",
       "      <td>(X)</td>\n",
       "      <td>(X)</td>\n",
       "      <td>61.9</td>\n",
       "      <td>5.4</td>\n",
       "      <td>(X)</td>\n",
       "      <td>(X)</td>\n",
       "      <td>68.3</td>\n",
       "      <td>5.7</td>\n",
       "    </tr>\n",
       "    <tr>\n",
       "      <th>1</th>\n",
       "      <td>8600000US00602</td>\n",
       "      <td>ZCTA5 00602</td>\n",
       "      <td>32020</td>\n",
       "      <td>147</td>\n",
       "      <td>32020</td>\n",
       "      <td>(X)</td>\n",
       "      <td>13493</td>\n",
       "      <td>683</td>\n",
       "      <td>42.1</td>\n",
       "      <td>2.1</td>\n",
       "      <td>...</td>\n",
       "      <td>44.7</td>\n",
       "      <td>5.3</td>\n",
       "      <td>(X)</td>\n",
       "      <td>(X)</td>\n",
       "      <td>49.1</td>\n",
       "      <td>3.6</td>\n",
       "      <td>(X)</td>\n",
       "      <td>(X)</td>\n",
       "      <td>64.1</td>\n",
       "      <td>5.2</td>\n",
       "    </tr>\n",
       "    <tr>\n",
       "      <th>2</th>\n",
       "      <td>8600000US00603</td>\n",
       "      <td>ZCTA5 00603</td>\n",
       "      <td>40180</td>\n",
       "      <td>663</td>\n",
       "      <td>40180</td>\n",
       "      <td>(X)</td>\n",
       "      <td>15595</td>\n",
       "      <td>753</td>\n",
       "      <td>38.8</td>\n",
       "      <td>1.8</td>\n",
       "      <td>...</td>\n",
       "      <td>41.3</td>\n",
       "      <td>3.3</td>\n",
       "      <td>(X)</td>\n",
       "      <td>(X)</td>\n",
       "      <td>48.8</td>\n",
       "      <td>2.8</td>\n",
       "      <td>(X)</td>\n",
       "      <td>(X)</td>\n",
       "      <td>63.9</td>\n",
       "      <td>3.6</td>\n",
       "    </tr>\n",
       "    <tr>\n",
       "      <th>3</th>\n",
       "      <td>8600000US00606</td>\n",
       "      <td>ZCTA5 00606</td>\n",
       "      <td>5365</td>\n",
       "      <td>279</td>\n",
       "      <td>5365</td>\n",
       "      <td>(X)</td>\n",
       "      <td>1585</td>\n",
       "      <td>218</td>\n",
       "      <td>29.5</td>\n",
       "      <td>3.7</td>\n",
       "      <td>...</td>\n",
       "      <td>40.7</td>\n",
       "      <td>10.5</td>\n",
       "      <td>(X)</td>\n",
       "      <td>(X)</td>\n",
       "      <td>63.1</td>\n",
       "      <td>7.3</td>\n",
       "      <td>(X)</td>\n",
       "      <td>(X)</td>\n",
       "      <td>73.3</td>\n",
       "      <td>8.8</td>\n",
       "    </tr>\n",
       "    <tr>\n",
       "      <th>4</th>\n",
       "      <td>8600000US00610</td>\n",
       "      <td>ZCTA5 00610</td>\n",
       "      <td>22641</td>\n",
       "      <td>221</td>\n",
       "      <td>22641</td>\n",
       "      <td>(X)</td>\n",
       "      <td>9754</td>\n",
       "      <td>590</td>\n",
       "      <td>43.1</td>\n",
       "      <td>2.6</td>\n",
       "      <td>...</td>\n",
       "      <td>39.3</td>\n",
       "      <td>5.1</td>\n",
       "      <td>(X)</td>\n",
       "      <td>(X)</td>\n",
       "      <td>41.7</td>\n",
       "      <td>3.8</td>\n",
       "      <td>(X)</td>\n",
       "      <td>(X)</td>\n",
       "      <td>57</td>\n",
       "      <td>7</td>\n",
       "    </tr>\n",
       "  </tbody>\n",
       "</table>\n",
       "<p>5 rows × 550 columns</p>\n",
       "</div>"
      ],
      "text/plain": [
       "               id Geographic Area Name  \\\n",
       "0  8600000US00601          ZCTA5 00601   \n",
       "1  8600000US00602          ZCTA5 00602   \n",
       "2  8600000US00603          ZCTA5 00603   \n",
       "3  8600000US00606          ZCTA5 00606   \n",
       "4  8600000US00610          ZCTA5 00610   \n",
       "\n",
       "  Estimate!!EMPLOYMENT STATUS!!Population 16 years and over  \\\n",
       "0                                              13924          \n",
       "1                                              32020          \n",
       "2                                              40180          \n",
       "3                                               5365          \n",
       "4                                              22641          \n",
       "\n",
       "  Margin of Error!!EMPLOYMENT STATUS!!Population 16 years and over  \\\n",
       "0                                                280                 \n",
       "1                                                147                 \n",
       "2                                                663                 \n",
       "3                                                279                 \n",
       "4                                                221                 \n",
       "\n",
       "  Percent Estimate!!EMPLOYMENT STATUS!!Population 16 years and over  \\\n",
       "0                                              13924                  \n",
       "1                                              32020                  \n",
       "2                                              40180                  \n",
       "3                                               5365                  \n",
       "4                                              22641                  \n",
       "\n",
       "  Percent Margin of Error!!EMPLOYMENT STATUS!!Population 16 years and over  \\\n",
       "0                                                (X)                         \n",
       "1                                                (X)                         \n",
       "2                                                (X)                         \n",
       "3                                                (X)                         \n",
       "4                                                (X)                         \n",
       "\n",
       "  Estimate!!EMPLOYMENT STATUS!!Population 16 years and over!!In labor force  \\\n",
       "0                                               5811                          \n",
       "1                                              13493                          \n",
       "2                                              15595                          \n",
       "3                                               1585                          \n",
       "4                                               9754                          \n",
       "\n",
       "  Margin of Error!!EMPLOYMENT STATUS!!Population 16 years and over!!In labor force  \\\n",
       "0                                                454                                 \n",
       "1                                                683                                 \n",
       "2                                                753                                 \n",
       "3                                                218                                 \n",
       "4                                                590                                 \n",
       "\n",
       "  Percent Estimate!!EMPLOYMENT STATUS!!Population 16 years and over!!In labor force  \\\n",
       "0                                               41.7                                  \n",
       "1                                               42.1                                  \n",
       "2                                               38.8                                  \n",
       "3                                               29.5                                  \n",
       "4                                               43.1                                  \n",
       "\n",
       "  Percent Margin of Error!!EMPLOYMENT STATUS!!Population 16 years and over!!In labor force  \\\n",
       "0                                                3.2                                         \n",
       "1                                                2.1                                         \n",
       "2                                                1.8                                         \n",
       "3                                                3.7                                         \n",
       "4                                                2.6                                         \n",
       "\n",
       "   ...  \\\n",
       "0  ...   \n",
       "1  ...   \n",
       "2  ...   \n",
       "3  ...   \n",
       "4  ...   \n",
       "\n",
       "  Percent Estimate!!PERCENTAGE OF FAMILIES AND PEOPLE WHOSE INCOME IN THE PAST 12 MONTHS IS BELOW THE POVERTY LEVEL!!All people!!18 years and over!!65 years and over  \\\n",
       "0                                               59.9                                                                                                                    \n",
       "1                                               44.7                                                                                                                    \n",
       "2                                               41.3                                                                                                                    \n",
       "3                                               40.7                                                                                                                    \n",
       "4                                               39.3                                                                                                                    \n",
       "\n",
       "  Percent Margin of Error!!PERCENTAGE OF FAMILIES AND PEOPLE WHOSE INCOME IN THE PAST 12 MONTHS IS BELOW THE POVERTY LEVEL!!All people!!18 years and over!!65 years and over  \\\n",
       "0                                                5.8                                                                                                                           \n",
       "1                                                5.3                                                                                                                           \n",
       "2                                                3.3                                                                                                                           \n",
       "3                                               10.5                                                                                                                           \n",
       "4                                                5.1                                                                                                                           \n",
       "\n",
       "  Estimate!!PERCENTAGE OF FAMILIES AND PEOPLE WHOSE INCOME IN THE PAST 12 MONTHS IS BELOW THE POVERTY LEVEL!!People in families  \\\n",
       "0                                                (X)                                                                              \n",
       "1                                                (X)                                                                              \n",
       "2                                                (X)                                                                              \n",
       "3                                                (X)                                                                              \n",
       "4                                                (X)                                                                              \n",
       "\n",
       "  Margin of Error!!PERCENTAGE OF FAMILIES AND PEOPLE WHOSE INCOME IN THE PAST 12 MONTHS IS BELOW THE POVERTY LEVEL!!People in families  \\\n",
       "0                                                (X)                                                                                     \n",
       "1                                                (X)                                                                                     \n",
       "2                                                (X)                                                                                     \n",
       "3                                                (X)                                                                                     \n",
       "4                                                (X)                                                                                     \n",
       "\n",
       "  Percent Estimate!!PERCENTAGE OF FAMILIES AND PEOPLE WHOSE INCOME IN THE PAST 12 MONTHS IS BELOW THE POVERTY LEVEL!!People in families  \\\n",
       "0                                               61.9                                                                                      \n",
       "1                                               49.1                                                                                      \n",
       "2                                               48.8                                                                                      \n",
       "3                                               63.1                                                                                      \n",
       "4                                               41.7                                                                                      \n",
       "\n",
       "  Percent Margin of Error!!PERCENTAGE OF FAMILIES AND PEOPLE WHOSE INCOME IN THE PAST 12 MONTHS IS BELOW THE POVERTY LEVEL!!People in families  \\\n",
       "0                                                5.4                                                                                             \n",
       "1                                                3.6                                                                                             \n",
       "2                                                2.8                                                                                             \n",
       "3                                                7.3                                                                                             \n",
       "4                                                3.8                                                                                             \n",
       "\n",
       "  Estimate!!PERCENTAGE OF FAMILIES AND PEOPLE WHOSE INCOME IN THE PAST 12 MONTHS IS BELOW THE POVERTY LEVEL!!Unrelated individuals 15 years and over  \\\n",
       "0                                                (X)                                                                                                   \n",
       "1                                                (X)                                                                                                   \n",
       "2                                                (X)                                                                                                   \n",
       "3                                                (X)                                                                                                   \n",
       "4                                                (X)                                                                                                   \n",
       "\n",
       "  Margin of Error!!PERCENTAGE OF FAMILIES AND PEOPLE WHOSE INCOME IN THE PAST 12 MONTHS IS BELOW THE POVERTY LEVEL!!Unrelated individuals 15 years and over  \\\n",
       "0                                                (X)                                                                                                          \n",
       "1                                                (X)                                                                                                          \n",
       "2                                                (X)                                                                                                          \n",
       "3                                                (X)                                                                                                          \n",
       "4                                                (X)                                                                                                          \n",
       "\n",
       "  Percent Estimate!!PERCENTAGE OF FAMILIES AND PEOPLE WHOSE INCOME IN THE PAST 12 MONTHS IS BELOW THE POVERTY LEVEL!!Unrelated individuals 15 years and over  \\\n",
       "0                                               68.3                                                                                                           \n",
       "1                                               64.1                                                                                                           \n",
       "2                                               63.9                                                                                                           \n",
       "3                                               73.3                                                                                                           \n",
       "4                                                 57                                                                                                           \n",
       "\n",
       "  Percent Margin of Error!!PERCENTAGE OF FAMILIES AND PEOPLE WHOSE INCOME IN THE PAST 12 MONTHS IS BELOW THE POVERTY LEVEL!!Unrelated individuals 15 years and over  \n",
       "0                                                5.7                                                                                                                 \n",
       "1                                                5.2                                                                                                                 \n",
       "2                                                3.6                                                                                                                 \n",
       "3                                                8.8                                                                                                                 \n",
       "4                                                  7                                                                                                                 \n",
       "\n",
       "[5 rows x 550 columns]"
      ]
     },
     "execution_count": 5,
     "metadata": {},
     "output_type": "execute_result"
    }
   ],
   "source": [
    "data.head()"
   ]
  },
  {
   "cell_type": "markdown",
   "metadata": {},
   "source": [
    "#### Transporation and Occupation"
   ]
  },
  {
   "cell_type": "code",
   "execution_count": 6,
   "metadata": {},
   "outputs": [],
   "source": [
    "covid = covid.rename(columns={\"MODIFIED_ZCTA\": \"zipcode\"})"
   ]
  },
  {
   "cell_type": "code",
   "execution_count": 7,
   "metadata": {},
   "outputs": [],
   "source": [
    "covid['zipcode'] = covid['zipcode'].astype(str)"
   ]
  },
  {
   "cell_type": "code",
   "execution_count": 8,
   "metadata": {},
   "outputs": [],
   "source": [
    "s = data['Geographic Area Name'].str.split(' ', expand=True)"
   ]
  },
  {
   "cell_type": "code",
   "execution_count": 9,
   "metadata": {},
   "outputs": [],
   "source": [
    "data['zipcode'] = s[1]"
   ]
  },
  {
   "cell_type": "code",
   "execution_count": 10,
   "metadata": {},
   "outputs": [],
   "source": [
    "feature_list=['zipcode',\n",
    "'Percent Estimate!!COMMUTING TO WORK!!Workers 16 years and over!!Car, truck, or van -- drove alone',\n",
    "'Percent Estimate!!COMMUTING TO WORK!!Workers 16 years and over!!Car, truck, or van -- carpooled',\n",
    "'Percent Estimate!!COMMUTING TO WORK!!Workers 16 years and over!!Public transportation (excluding taxicab)',\n",
    "'Percent Estimate!!COMMUTING TO WORK!!Workers 16 years and over!!Walked',\n",
    "'Percent Estimate!!COMMUTING TO WORK!!Workers 16 years and over!!Other means',\n",
    "'Percent Estimate!!COMMUTING TO WORK!!Workers 16 years and over!!Worked at home',\n",
    "'Estimate!!COMMUTING TO WORK!!Workers 16 years and over!!Mean travel time to work (minutes)',\n",
    "'Percent Estimate!!OCCUPATION!!Civilian employed population 16 years and over!!Management, business, science, and arts occupations',\n",
    "'Percent Estimate!!OCCUPATION!!Civilian employed population 16 years and over!!Service occupations',\n",
    "'Percent Estimate!!OCCUPATION!!Civilian employed population 16 years and over!!Sales and office occupations',\n",
    "'Percent Estimate!!OCCUPATION!!Civilian employed population 16 years and over!!Natural resources, construction, and maintenance occupations',\n",
    "'Percent Estimate!!OCCUPATION!!Civilian employed population 16 years and over!!Production, transportation, and material moving occupations',\n",
    "'Percent Estimate!!HEALTH INSURANCE COVERAGE!!Civilian noninstitutionalized population!!No health insurance coverage',\n",
    "'Estimate!!INCOME AND BENEFITS (IN 2018 INFLATION-ADJUSTED DOLLARS)!!Total households!!Median household income (dollars)'\n",
    "]"
   ]
  },
  {
   "cell_type": "code",
   "execution_count": 11,
   "metadata": {},
   "outputs": [],
   "source": [
    "data2 = data[feature_list]"
   ]
  },
  {
   "cell_type": "code",
   "execution_count": 12,
   "metadata": {},
   "outputs": [],
   "source": [
    "data3 = data2.merge(covid, on='zipcode')"
   ]
  },
  {
   "cell_type": "code",
   "execution_count": 13,
   "metadata": {},
   "outputs": [
    {
     "data": {
      "text/plain": [
       "(177, 24)"
      ]
     },
     "execution_count": 13,
     "metadata": {},
     "output_type": "execute_result"
    }
   ],
   "source": [
    "data3.shape"
   ]
  },
  {
   "cell_type": "code",
   "execution_count": 68,
   "metadata": {},
   "outputs": [],
   "source": [
    "data3 = data3.rename(columns={'Percent Estimate!!COMMUTING TO WORK!!Workers 16 years and over!!Car, truck, or van -- drove alone': 'pct_drove_alone',\n",
    "                             'Percent Estimate!!COMMUTING TO WORK!!Workers 16 years and over!!Car, truck, or van -- carpooled': 'pct_carpooled',\n",
    "                             'Percent Estimate!!COMMUTING TO WORK!!Workers 16 years and over!!Public transportation (excluding taxicab)':'pct_public_transporation',\n",
    "                             'Percent Estimate!!COMMUTING TO WORK!!Workers 16 years and over!!Walked':'pct_walked',\n",
    "                             'Percent Estimate!!COMMUTING TO WORK!!Workers 16 years and over!!Other means': 'pct_other_transportation',\n",
    "                             'Percent Estimate!!COMMUTING TO WORK!!Workers 16 years and over!!Worked at home':'pct_worked_at_home',\n",
    "                             'Estimate!!COMMUTING TO WORK!!Workers 16 years and over!!Mean travel time to work (minutes)': 'mean_travel_time',\n",
    "                             'Percent Estimate!!OCCUPATION!!Civilian employed population 16 years and over!!Management, business, science, and arts occupations': 'Management_business_science_arts_occupations',\n",
    "                             'Percent Estimate!!OCCUPATION!!Civilian employed population 16 years and over!!Service occupations':'Service_occupations',\n",
    "                             'Percent Estimate!!OCCUPATION!!Civilian employed population 16 years and over!!Sales and office occupations':'Sales_office_occupations',\n",
    "                             'Percent Estimate!!OCCUPATION!!Civilian employed population 16 years and over!!Natural resources, construction, and maintenance occupations':'Natural_resources_construction_maintenance_occupations',\n",
    "                             'Percent Estimate!!OCCUPATION!!Civilian employed population 16 years and over!!Production, transportation, and material moving occupations': 'Production_transportation_material_moving_occupations',\n",
    "                             'Percent Estimate!!HEALTH INSURANCE COVERAGE!!Civilian noninstitutionalized population!!No health insurance coverage':'pct_no_health_insurance',\n",
    "                             'Estimate!!INCOME AND BENEFITS (IN 2018 INFLATION-ADJUSTED DOLLARS)!!Total households!!Median household income (dollars)':'median_household_income'})"
   ]
  },
  {
   "cell_type": "code",
   "execution_count": 15,
   "metadata": {},
   "outputs": [],
   "source": [
    "ols_features = [\n",
    "    'pct_drove_alone',\n",
    "    #'pct_carpooled', not siginifcant\n",
    "    'pct_public_transporation',\n",
    "    'pct_walked',\n",
    "    #'pct_other_transportation', not significant\n",
    "    'pct_worked_at_home'\n",
    "\n",
    "]"
   ]
  },
  {
   "cell_type": "code",
   "execution_count": 16,
   "metadata": {},
   "outputs": [],
   "source": [
    "data3[ols_features] = data3[ols_features].astype(float)"
   ]
  },
  {
   "cell_type": "code",
   "execution_count": 17,
   "metadata": {},
   "outputs": [],
   "source": [
    "ols_str = \"+\".join(ols_features) + '-1'\n",
    "#ols_str = \"+\".join(ols_features)"
   ]
  },
  {
   "cell_type": "code",
   "execution_count": 18,
   "metadata": {},
   "outputs": [
    {
     "data": {
      "text/plain": [
       "'pct_drove_alone+pct_public_transporation+pct_walked+pct_worked_at_home-1'"
      ]
     },
     "execution_count": 18,
     "metadata": {},
     "output_type": "execute_result"
    }
   ],
   "source": [
    "ols_str"
   ]
  },
  {
   "cell_type": "code",
   "execution_count": 19,
   "metadata": {
    "scrolled": false
   },
   "outputs": [
    {
     "name": "stdout",
     "output_type": "stream",
     "text": [
      "                                 OLS Regression Results                                \n",
      "=======================================================================================\n",
      "Dep. Variable:       PERCENT_POSITIVE   R-squared (uncentered):                   0.967\n",
      "Model:                            OLS   Adj. R-squared (uncentered):              0.966\n",
      "Method:                 Least Squares   F-statistic:                              1250.\n",
      "Date:                Wed, 15 Jul 2020   Prob (F-statistic):                   1.87e-126\n",
      "Time:                        13:03:02   Log-Likelihood:                         -468.63\n",
      "No. Observations:                 177   AIC:                                      945.3\n",
      "Df Residuals:                     173   BIC:                                      958.0\n",
      "Df Model:                           4                                                  \n",
      "Covariance Type:            nonrobust                                                  \n",
      "============================================================================================\n",
      "                               coef    std err          t      P>|t|      [0.025      0.975]\n",
      "--------------------------------------------------------------------------------------------\n",
      "pct_drove_alone              0.2949      0.011     26.052      0.000       0.273       0.317\n",
      "pct_public_transporation     0.2615      0.011     24.354      0.000       0.240       0.283\n",
      "pct_walked                   0.1105      0.035      3.115      0.002       0.040       0.181\n",
      "pct_worked_at_home          -1.1313      0.146     -7.768      0.000      -1.419      -0.844\n",
      "==============================================================================\n",
      "Omnibus:                       28.361   Durbin-Watson:                   1.025\n",
      "Prob(Omnibus):                  0.000   Jarque-Bera (JB):               44.844\n",
      "Skew:                          -0.853   Prob(JB):                     1.83e-10\n",
      "Kurtosis:                       4.781   Cond. No.                         34.3\n",
      "==============================================================================\n",
      "\n",
      "Warnings:\n",
      "[1] Standard Errors assume that the covariance matrix of the errors is correctly specified.\n"
     ]
    }
   ],
   "source": [
    "lm = smf.ols(formula='PERCENT_POSITIVE ~ ' + ols_str, data = data3).fit()\n",
    "print(lm.summary())"
   ]
  },
  {
   "cell_type": "code",
   "execution_count": 20,
   "metadata": {},
   "outputs": [
    {
     "name": "stdout",
     "output_type": "stream",
     "text": [
      "                                 OLS Regression Results                                \n",
      "=======================================================================================\n",
      "Dep. Variable:        COVID_CASE_RATE   R-squared (uncentered):                   0.936\n",
      "Model:                            OLS   Adj. R-squared (uncentered):              0.935\n",
      "Method:                 Least Squares   F-statistic:                              633.1\n",
      "Date:                Wed, 15 Jul 2020   Prob (F-statistic):                   4.16e-102\n",
      "Time:                        13:03:02   Log-Likelihood:                         -1394.5\n",
      "No. Observations:                 177   AIC:                                      2797.\n",
      "Df Residuals:                     173   BIC:                                      2810.\n",
      "Df Model:                           4                                                  \n",
      "Covariance Type:            nonrobust                                                  \n",
      "============================================================================================\n",
      "                               coef    std err          t      P>|t|      [0.025      0.975]\n",
      "--------------------------------------------------------------------------------------------\n",
      "pct_drove_alone             41.4305      2.116     19.582      0.000      37.255      45.606\n",
      "pct_public_transporation    33.1274      2.007     16.508      0.000      29.167      37.088\n",
      "pct_walked                  19.1064      6.631      2.881      0.004       6.019      32.194\n",
      "pct_worked_at_home        -154.0118     27.221     -5.658      0.000    -207.740    -100.283\n",
      "==============================================================================\n",
      "Omnibus:                        1.408   Durbin-Watson:                   1.026\n",
      "Prob(Omnibus):                  0.495   Jarque-Bera (JB):                1.024\n",
      "Skew:                           0.134   Prob(JB):                        0.599\n",
      "Kurtosis:                       3.259   Cond. No.                         34.3\n",
      "==============================================================================\n",
      "\n",
      "Warnings:\n",
      "[1] Standard Errors assume that the covariance matrix of the errors is correctly specified.\n"
     ]
    }
   ],
   "source": [
    "lm = smf.ols(formula='COVID_CASE_RATE ~ ' + ols_str, data = data3).fit()\n",
    "print(lm.summary())"
   ]
  },
  {
   "cell_type": "code",
   "execution_count": 21,
   "metadata": {},
   "outputs": [
    {
     "name": "stdout",
     "output_type": "stream",
     "text": [
      "                                 OLS Regression Results                                \n",
      "=======================================================================================\n",
      "Dep. Variable:       COVID_DEATH_RATE   R-squared (uncentered):                   0.841\n",
      "Model:                            OLS   Adj. R-squared (uncentered):              0.837\n",
      "Method:                 Least Squares   F-statistic:                              227.9\n",
      "Date:                Wed, 15 Jul 2020   Prob (F-statistic):                    8.01e-68\n",
      "Time:                        13:03:02   Log-Likelihood:                         -1053.8\n",
      "No. Observations:                 177   AIC:                                      2116.\n",
      "Df Residuals:                     173   BIC:                                      2128.\n",
      "Df Model:                           4                                                  \n",
      "Covariance Type:            nonrobust                                                  \n",
      "============================================================================================\n",
      "                               coef    std err          t      P>|t|      [0.025      0.975]\n",
      "--------------------------------------------------------------------------------------------\n",
      "pct_drove_alone              2.8930      0.309      9.368      0.000       2.283       3.503\n",
      "pct_public_transporation     3.7185      0.293     12.695      0.000       3.140       4.297\n",
      "pct_walked                   1.5441      0.968      1.595      0.112      -0.366       3.454\n",
      "pct_worked_at_home         -19.5727      3.973     -4.926      0.000     -27.415     -11.730\n",
      "==============================================================================\n",
      "Omnibus:                       40.396   Durbin-Watson:                   1.666\n",
      "Prob(Omnibus):                  0.000   Jarque-Bera (JB):               83.589\n",
      "Skew:                           1.045   Prob(JB):                     7.06e-19\n",
      "Kurtosis:                       5.640   Cond. No.                         34.3\n",
      "==============================================================================\n",
      "\n",
      "Warnings:\n",
      "[1] Standard Errors assume that the covariance matrix of the errors is correctly specified.\n"
     ]
    }
   ],
   "source": [
    "lm = smf.ols(formula='COVID_DEATH_RATE ~ ' + ols_str, data = data3).fit()\n",
    "print(lm.summary())"
   ]
  },
  {
   "cell_type": "code",
   "execution_count": 22,
   "metadata": {},
   "outputs": [
    {
     "data": {
      "text/html": [
       "<div>\n",
       "<style scoped>\n",
       "    .dataframe tbody tr th:only-of-type {\n",
       "        vertical-align: middle;\n",
       "    }\n",
       "\n",
       "    .dataframe tbody tr th {\n",
       "        vertical-align: top;\n",
       "    }\n",
       "\n",
       "    .dataframe thead th {\n",
       "        text-align: right;\n",
       "    }\n",
       "</style>\n",
       "<table border=\"1\" class=\"dataframe\">\n",
       "  <thead>\n",
       "    <tr style=\"text-align: right;\">\n",
       "      <th></th>\n",
       "      <th>VIF Factor</th>\n",
       "      <th>features</th>\n",
       "    </tr>\n",
       "  </thead>\n",
       "  <tbody>\n",
       "    <tr>\n",
       "      <th>0</th>\n",
       "      <td>1.842385</td>\n",
       "      <td>pct_drove_alone</td>\n",
       "    </tr>\n",
       "    <tr>\n",
       "      <th>1</th>\n",
       "      <td>5.241997</td>\n",
       "      <td>pct_public_transporation</td>\n",
       "    </tr>\n",
       "    <tr>\n",
       "      <th>2</th>\n",
       "      <td>3.516155</td>\n",
       "      <td>pct_walked</td>\n",
       "    </tr>\n",
       "    <tr>\n",
       "      <th>3</th>\n",
       "      <td>6.904590</td>\n",
       "      <td>pct_worked_at_home</td>\n",
       "    </tr>\n",
       "  </tbody>\n",
       "</table>\n",
       "</div>"
      ],
      "text/plain": [
       "   VIF Factor                  features\n",
       "0    1.842385           pct_drove_alone\n",
       "1    5.241997  pct_public_transporation\n",
       "2    3.516155                pct_walked\n",
       "3    6.904590        pct_worked_at_home"
      ]
     },
     "execution_count": 22,
     "metadata": {},
     "output_type": "execute_result"
    }
   ],
   "source": [
    "ols_str1 = ols_str + '-1'\n",
    "\n",
    "# get y and X dataframes based on this regression:\n",
    "y, X = dmatrices('COVID_CASE_RATE ~' + ols_str1, data3, return_type='dataframe')\n",
    "\n",
    "# For each X, calculate VIF and save in dataframe\n",
    "vif = pd.DataFrame()\n",
    "vif[\"VIF Factor\"] = [variance_inflation_factor(X.values, i) for i in range(X.shape[1])]\n",
    "vif[\"features\"] = X.columns\n",
    "vif"
   ]
  },
  {
   "cell_type": "code",
   "execution_count": 23,
   "metadata": {},
   "outputs": [
    {
     "data": {
      "text/html": [
       "<div>\n",
       "<style scoped>\n",
       "    .dataframe tbody tr th:only-of-type {\n",
       "        vertical-align: middle;\n",
       "    }\n",
       "\n",
       "    .dataframe tbody tr th {\n",
       "        vertical-align: top;\n",
       "    }\n",
       "\n",
       "    .dataframe thead th {\n",
       "        text-align: right;\n",
       "    }\n",
       "</style>\n",
       "<table border=\"1\" class=\"dataframe\">\n",
       "  <thead>\n",
       "    <tr style=\"text-align: right;\">\n",
       "      <th></th>\n",
       "      <th>zipcode</th>\n",
       "      <th>pct_drove_alone</th>\n",
       "      <th>pct_carpooled</th>\n",
       "      <th>pct_public_transporation</th>\n",
       "      <th>pct_walked</th>\n",
       "      <th>pct_other_transportation</th>\n",
       "      <th>pct_worked_at_home</th>\n",
       "      <th>mean_travel_time</th>\n",
       "      <th>Management_business_science_arts_occupations</th>\n",
       "      <th>Service_occupations</th>\n",
       "      <th>...</th>\n",
       "      <th>median_household_income</th>\n",
       "      <th>NEIGHBORHOOD_NAME</th>\n",
       "      <th>BOROUGH_GROUP</th>\n",
       "      <th>COVID_CASE_COUNT</th>\n",
       "      <th>COVID_CASE_RATE</th>\n",
       "      <th>POP_DENOMINATOR</th>\n",
       "      <th>COVID_DEATH_COUNT</th>\n",
       "      <th>COVID_DEATH_RATE</th>\n",
       "      <th>PERCENT_POSITIVE</th>\n",
       "      <th>TOTAL_COVID_TESTS</th>\n",
       "    </tr>\n",
       "  </thead>\n",
       "  <tbody>\n",
       "    <tr>\n",
       "      <th>0</th>\n",
       "      <td>10001</td>\n",
       "      <td>3.0</td>\n",
       "      <td>1</td>\n",
       "      <td>49.7</td>\n",
       "      <td>32.2</td>\n",
       "      <td>7.6</td>\n",
       "      <td>6.4</td>\n",
       "      <td>27.9</td>\n",
       "      <td>64.6</td>\n",
       "      <td>10.4</td>\n",
       "      <td>...</td>\n",
       "      <td>88526</td>\n",
       "      <td>Chelsea/NoMad/West Chelsea</td>\n",
       "      <td>Manhattan</td>\n",
       "      <td>387</td>\n",
       "      <td>1642.40</td>\n",
       "      <td>23563.03</td>\n",
       "      <td>23</td>\n",
       "      <td>97.61</td>\n",
       "      <td>10.25</td>\n",
       "      <td>3777</td>\n",
       "    </tr>\n",
       "    <tr>\n",
       "      <th>1</th>\n",
       "      <td>10002</td>\n",
       "      <td>5.1</td>\n",
       "      <td>3.6</td>\n",
       "      <td>54.6</td>\n",
       "      <td>25.6</td>\n",
       "      <td>7</td>\n",
       "      <td>4.2</td>\n",
       "      <td>32.7</td>\n",
       "      <td>44.5</td>\n",
       "      <td>25.4</td>\n",
       "      <td>...</td>\n",
       "      <td>35859</td>\n",
       "      <td>Chinatown/Lower East Side</td>\n",
       "      <td>Manhattan</td>\n",
       "      <td>1096</td>\n",
       "      <td>1427.91</td>\n",
       "      <td>76755.41</td>\n",
       "      <td>158</td>\n",
       "      <td>205.85</td>\n",
       "      <td>14.30</td>\n",
       "      <td>7667</td>\n",
       "    </tr>\n",
       "    <tr>\n",
       "      <th>2</th>\n",
       "      <td>10003</td>\n",
       "      <td>4.4</td>\n",
       "      <td>1.5</td>\n",
       "      <td>51.1</td>\n",
       "      <td>27.1</td>\n",
       "      <td>8.2</td>\n",
       "      <td>7.7</td>\n",
       "      <td>25.2</td>\n",
       "      <td>71.2</td>\n",
       "      <td>8</td>\n",
       "      <td>...</td>\n",
       "      <td>112131</td>\n",
       "      <td>East Village/Gramercy/Greenwich Village</td>\n",
       "      <td>Manhattan</td>\n",
       "      <td>471</td>\n",
       "      <td>875.44</td>\n",
       "      <td>53801.62</td>\n",
       "      <td>33</td>\n",
       "      <td>61.34</td>\n",
       "      <td>7.93</td>\n",
       "      <td>5936</td>\n",
       "    </tr>\n",
       "    <tr>\n",
       "      <th>3</th>\n",
       "      <td>10004</td>\n",
       "      <td>7.5</td>\n",
       "      <td>1</td>\n",
       "      <td>54.3</td>\n",
       "      <td>24.4</td>\n",
       "      <td>1.1</td>\n",
       "      <td>11.8</td>\n",
       "      <td>25.4</td>\n",
       "      <td>76.2</td>\n",
       "      <td>2.4</td>\n",
       "      <td>...</td>\n",
       "      <td>157645</td>\n",
       "      <td>Financial District</td>\n",
       "      <td>Manhattan</td>\n",
       "      <td>32</td>\n",
       "      <td>876.57</td>\n",
       "      <td>3650.61</td>\n",
       "      <td>1</td>\n",
       "      <td>27.39</td>\n",
       "      <td>8.21</td>\n",
       "      <td>390</td>\n",
       "    </tr>\n",
       "    <tr>\n",
       "      <th>4</th>\n",
       "      <td>10005</td>\n",
       "      <td>1.6</td>\n",
       "      <td>0.2</td>\n",
       "      <td>62.8</td>\n",
       "      <td>29.9</td>\n",
       "      <td>1.1</td>\n",
       "      <td>4.4</td>\n",
       "      <td>24.3</td>\n",
       "      <td>71.3</td>\n",
       "      <td>3.2</td>\n",
       "      <td>...</td>\n",
       "      <td>173333</td>\n",
       "      <td>Financial District</td>\n",
       "      <td>Manhattan</td>\n",
       "      <td>65</td>\n",
       "      <td>774.17</td>\n",
       "      <td>8396.11</td>\n",
       "      <td>2</td>\n",
       "      <td>23.82</td>\n",
       "      <td>7.39</td>\n",
       "      <td>880</td>\n",
       "    </tr>\n",
       "  </tbody>\n",
       "</table>\n",
       "<p>5 rows × 24 columns</p>\n",
       "</div>"
      ],
      "text/plain": [
       "  zipcode  pct_drove_alone pct_carpooled  pct_public_transporation  \\\n",
       "0   10001              3.0             1                      49.7   \n",
       "1   10002              5.1           3.6                      54.6   \n",
       "2   10003              4.4           1.5                      51.1   \n",
       "3   10004              7.5             1                      54.3   \n",
       "4   10005              1.6           0.2                      62.8   \n",
       "\n",
       "   pct_walked pct_other_transportation  pct_worked_at_home mean_travel_time  \\\n",
       "0        32.2                      7.6                 6.4             27.9   \n",
       "1        25.6                        7                 4.2             32.7   \n",
       "2        27.1                      8.2                 7.7             25.2   \n",
       "3        24.4                      1.1                11.8             25.4   \n",
       "4        29.9                      1.1                 4.4             24.3   \n",
       "\n",
       "  Management_business_science_arts_occupations Service_occupations  ...  \\\n",
       "0                                         64.6                10.4  ...   \n",
       "1                                         44.5                25.4  ...   \n",
       "2                                         71.2                   8  ...   \n",
       "3                                         76.2                 2.4  ...   \n",
       "4                                         71.3                 3.2  ...   \n",
       "\n",
       "  median_household_income                        NEIGHBORHOOD_NAME  \\\n",
       "0                   88526               Chelsea/NoMad/West Chelsea   \n",
       "1                   35859                Chinatown/Lower East Side   \n",
       "2                  112131  East Village/Gramercy/Greenwich Village   \n",
       "3                  157645                       Financial District   \n",
       "4                  173333                       Financial District   \n",
       "\n",
       "  BOROUGH_GROUP COVID_CASE_COUNT COVID_CASE_RATE POP_DENOMINATOR  \\\n",
       "0     Manhattan              387         1642.40        23563.03   \n",
       "1     Manhattan             1096         1427.91        76755.41   \n",
       "2     Manhattan              471          875.44        53801.62   \n",
       "3     Manhattan               32          876.57         3650.61   \n",
       "4     Manhattan               65          774.17         8396.11   \n",
       "\n",
       "  COVID_DEATH_COUNT  COVID_DEATH_RATE  PERCENT_POSITIVE  TOTAL_COVID_TESTS  \n",
       "0                23             97.61             10.25               3777  \n",
       "1               158            205.85             14.30               7667  \n",
       "2                33             61.34              7.93               5936  \n",
       "3                 1             27.39              8.21                390  \n",
       "4                 2             23.82              7.39                880  \n",
       "\n",
       "[5 rows x 24 columns]"
      ]
     },
     "execution_count": 23,
     "metadata": {},
     "output_type": "execute_result"
    }
   ],
   "source": [
    "data3.head()"
   ]
  },
  {
   "cell_type": "markdown",
   "metadata": {},
   "source": [
    "#### Occupation"
   ]
  },
  {
   "cell_type": "code",
   "execution_count": 57,
   "metadata": {},
   "outputs": [],
   "source": [
    "ols_features = [\n",
    "    'Service_occupations',\n",
    "    'Sales_office_occupations',\n",
    "    'Natural_resources_construction_maintenance_occupations',\n",
    "    'Production_transportation_material_moving_occupations'\n",
    "]"
   ]
  },
  {
   "cell_type": "code",
   "execution_count": 60,
   "metadata": {},
   "outputs": [],
   "source": [
    "data3[ols_features] = data3[ols_features].astype(float)"
   ]
  },
  {
   "cell_type": "code",
   "execution_count": 61,
   "metadata": {},
   "outputs": [],
   "source": [
    "ols_str = \"+\".join(ols_features) + '-1'"
   ]
  },
  {
   "cell_type": "code",
   "execution_count": 62,
   "metadata": {},
   "outputs": [
    {
     "name": "stdout",
     "output_type": "stream",
     "text": [
      "                                 OLS Regression Results                                \n",
      "=======================================================================================\n",
      "Dep. Variable:       PERCENT_POSITIVE   R-squared (uncentered):                   0.979\n",
      "Model:                            OLS   Adj. R-squared (uncentered):              0.978\n",
      "Method:                 Least Squares   F-statistic:                              2008.\n",
      "Date:                Wed, 15 Jul 2020   Prob (F-statistic):                   9.11e-144\n",
      "Time:                        13:08:19   Log-Likelihood:                         -427.84\n",
      "No. Observations:                 177   AIC:                                      863.7\n",
      "Df Residuals:                     173   BIC:                                      876.4\n",
      "Df Model:                           4                                                  \n",
      "Covariance Type:            nonrobust                                                  \n",
      "==========================================================================================================================\n",
      "                                                             coef    std err          t      P>|t|      [0.025      0.975]\n",
      "--------------------------------------------------------------------------------------------------------------------------\n",
      "Service_occupations                                        0.1705      0.037      4.579      0.000       0.097       0.244\n",
      "Sales_office_occupations                                   0.3742      0.024     15.610      0.000       0.327       0.422\n",
      "Natural_resources_construction_maintenance_occupations     0.4429      0.095      4.676      0.000       0.256       0.630\n",
      "Production_transportation_material_moving_occupations      0.4170      0.105      3.963      0.000       0.209       0.625\n",
      "==============================================================================\n",
      "Omnibus:                        0.426   Durbin-Watson:                   1.292\n",
      "Prob(Omnibus):                  0.808   Jarque-Bera (JB):                0.166\n",
      "Skew:                          -0.015   Prob(JB):                        0.920\n",
      "Kurtosis:                       3.147   Cond. No.                         20.4\n",
      "==============================================================================\n",
      "\n",
      "Warnings:\n",
      "[1] Standard Errors assume that the covariance matrix of the errors is correctly specified.\n"
     ]
    }
   ],
   "source": [
    "lm = smf.ols(formula='PERCENT_POSITIVE ~ ' + ols_str, data = data3).fit()\n",
    "print(lm.summary())"
   ]
  },
  {
   "cell_type": "code",
   "execution_count": 63,
   "metadata": {},
   "outputs": [
    {
     "name": "stdout",
     "output_type": "stream",
     "text": [
      "                                 OLS Regression Results                                \n",
      "=======================================================================================\n",
      "Dep. Variable:        COVID_CASE_RATE   R-squared (uncentered):                   0.946\n",
      "Model:                            OLS   Adj. R-squared (uncentered):              0.944\n",
      "Method:                 Least Squares   F-statistic:                              753.8\n",
      "Date:                Wed, 15 Jul 2020   Prob (F-statistic):                   2.83e-108\n",
      "Time:                        13:08:39   Log-Likelihood:                         -1379.9\n",
      "No. Observations:                 177   AIC:                                      2768.\n",
      "Df Residuals:                     173   BIC:                                      2781.\n",
      "Df Model:                           4                                                  \n",
      "Covariance Type:            nonrobust                                                  \n",
      "==========================================================================================================================\n",
      "                                                             coef    std err          t      P>|t|      [0.025      0.975]\n",
      "--------------------------------------------------------------------------------------------------------------------------\n",
      "Service_occupations                                       30.2496      8.074      3.746      0.000      14.312      46.187\n",
      "Sales_office_occupations                                  47.4910      5.197      9.138      0.000      37.233      57.749\n",
      "Natural_resources_construction_maintenance_occupations    57.7564     20.533      2.813      0.005      17.229      98.284\n",
      "Production_transportation_material_moving_occupations     42.8633     22.815      1.879      0.062      -2.168      87.894\n",
      "==============================================================================\n",
      "Omnibus:                        9.721   Durbin-Watson:                   1.219\n",
      "Prob(Omnibus):                  0.008   Jarque-Bera (JB):                9.800\n",
      "Skew:                           0.512   Prob(JB):                      0.00745\n",
      "Kurtosis:                       3.531   Cond. No.                         20.4\n",
      "==============================================================================\n",
      "\n",
      "Warnings:\n",
      "[1] Standard Errors assume that the covariance matrix of the errors is correctly specified.\n"
     ]
    }
   ],
   "source": [
    "lm = smf.ols(formula='COVID_CASE_RATE ~ ' + ols_str, data = data3).fit()\n",
    "print(lm.summary())"
   ]
  },
  {
   "cell_type": "code",
   "execution_count": 64,
   "metadata": {},
   "outputs": [
    {
     "name": "stdout",
     "output_type": "stream",
     "text": [
      "                                 OLS Regression Results                                \n",
      "=======================================================================================\n",
      "Dep. Variable:       COVID_DEATH_RATE   R-squared (uncentered):                   0.856\n",
      "Model:                            OLS   Adj. R-squared (uncentered):              0.853\n",
      "Method:                 Least Squares   F-statistic:                              257.9\n",
      "Date:                Wed, 15 Jul 2020   Prob (F-statistic):                    9.47e-72\n",
      "Time:                        13:08:51   Log-Likelihood:                         -1044.6\n",
      "No. Observations:                 177   AIC:                                      2097.\n",
      "Df Residuals:                     173   BIC:                                      2110.\n",
      "Df Model:                           4                                                  \n",
      "Covariance Type:            nonrobust                                                  \n",
      "==========================================================================================================================\n",
      "                                                             coef    std err          t      P>|t|      [0.025      0.975]\n",
      "--------------------------------------------------------------------------------------------------------------------------\n",
      "Service_occupations                                        5.5963      1.214      4.609      0.000       3.200       7.993\n",
      "Sales_office_occupations                                   3.6623      0.782      4.686      0.000       2.120       5.205\n",
      "Natural_resources_construction_maintenance_occupations    -2.1314      3.088     -0.690      0.491      -8.226       3.963\n",
      "Production_transportation_material_moving_occupations      2.6059      3.431      0.760      0.449      -4.165       9.377\n",
      "==============================================================================\n",
      "Omnibus:                       64.741   Durbin-Watson:                   1.697\n",
      "Prob(Omnibus):                  0.000   Jarque-Bera (JB):              158.201\n",
      "Skew:                           1.608   Prob(JB):                     4.44e-35\n",
      "Kurtosis:                       6.334   Cond. No.                         20.4\n",
      "==============================================================================\n",
      "\n",
      "Warnings:\n",
      "[1] Standard Errors assume that the covariance matrix of the errors is correctly specified.\n"
     ]
    }
   ],
   "source": [
    "lm = smf.ols(formula='COVID_DEATH_RATE ~ ' + ols_str, data = data3).fit()\n",
    "print(lm.summary())"
   ]
  },
  {
   "cell_type": "markdown",
   "metadata": {},
   "source": [
    "#### Demographic"
   ]
  },
  {
   "cell_type": "code",
   "execution_count": 24,
   "metadata": {},
   "outputs": [],
   "source": [
    "demographic = pd.read_csv('Demographic_Statistics_By_Zip_Code.csv')"
   ]
  },
  {
   "cell_type": "code",
   "execution_count": 25,
   "metadata": {},
   "outputs": [],
   "source": [
    "demographic = demographic.rename(columns={'JURISDICTION NAME':'zipcode'})\n",
    "demographic['zipcode'] = demographic['zipcode'].astype(str)"
   ]
  },
  {
   "cell_type": "code",
   "execution_count": 26,
   "metadata": {},
   "outputs": [],
   "source": [
    "covid_demo = covid.merge(demographic, on='zipcode')"
   ]
  },
  {
   "cell_type": "code",
   "execution_count": 27,
   "metadata": {},
   "outputs": [
    {
     "data": {
      "text/plain": [
       "Index(['zipcode', 'COUNT PARTICIPANTS', 'COUNT FEMALE', 'PERCENT FEMALE',\n",
       "       'COUNT MALE', 'PERCENT MALE', 'COUNT GENDER UNKNOWN',\n",
       "       'PERCENT GENDER UNKNOWN', 'COUNT GENDER TOTAL', 'PERCENT GENDER TOTAL',\n",
       "       'COUNT PACIFIC ISLANDER', 'PERCENT PACIFIC ISLANDER',\n",
       "       'COUNT HISPANIC LATINO', 'PERCENT HISPANIC LATINO',\n",
       "       'COUNT AMERICAN INDIAN', 'PERCENT AMERICAN INDIAN',\n",
       "       'COUNT ASIAN NON HISPANIC', 'PERCENT ASIAN NON HISPANIC',\n",
       "       'COUNT WHITE NON HISPANIC', 'PERCENT WHITE NON HISPANIC',\n",
       "       'COUNT BLACK NON HISPANIC', 'PERCENT BLACK NON HISPANIC',\n",
       "       'COUNT OTHER ETHNICITY', 'PERCENT OTHER ETHNICITY',\n",
       "       'COUNT ETHNICITY UNKNOWN', 'PERCENT ETHNICITY UNKNOWN',\n",
       "       'COUNT ETHNICITY TOTAL', 'PERCENT ETHNICITY TOTAL',\n",
       "       'COUNT PERMANENT RESIDENT ALIEN', 'PERCENT PERMANENT RESIDENT ALIEN',\n",
       "       'COUNT US CITIZEN', 'PERCENT US CITIZEN', 'COUNT OTHER CITIZEN STATUS',\n",
       "       'PERCENT OTHER CITIZEN STATUS', 'COUNT CITIZEN STATUS UNKNOWN',\n",
       "       'PERCENT CITIZEN STATUS UNKNOWN', 'COUNT CITIZEN STATUS TOTAL',\n",
       "       'PERCENT CITIZEN STATUS TOTAL', 'COUNT RECEIVES PUBLIC ASSISTANCE',\n",
       "       'PERCENT RECEIVES PUBLIC ASSISTANCE',\n",
       "       'COUNT NRECEIVES PUBLIC ASSISTANCE',\n",
       "       'PERCENT NRECEIVES PUBLIC ASSISTANCE',\n",
       "       'COUNT PUBLIC ASSISTANCE UNKNOWN', 'PERCENT PUBLIC ASSISTANCE UNKNOWN',\n",
       "       'COUNT PUBLIC ASSISTANCE TOTAL', 'PERCENT PUBLIC ASSISTANCE TOTAL'],\n",
       "      dtype='object')"
      ]
     },
     "execution_count": 27,
     "metadata": {},
     "output_type": "execute_result"
    }
   ],
   "source": [
    "demographic.columns"
   ]
  },
  {
   "cell_type": "code",
   "execution_count": 28,
   "metadata": {},
   "outputs": [],
   "source": [
    "covid_demo = covid_demo.rename(columns={'PERCENT PACIFIC ISLANDER':'pct_pacific_islander',\n",
    "    'PERCENT HISPANIC LATINO':'pct_hispanic',\n",
    "    'PERCENT AMERICAN INDIAN':'pct_american_indian',\n",
    "    'PERCENT ASIAN NON HISPANIC':'pct_asian',\n",
    "    'PERCENT WHITE NON HISPANIC':'pct_white',\n",
    "    'PERCENT BLACK NON HISPANIC':'pct_black',\n",
    "    'PERCENT OTHER ETHNICITY':'pct_other'})"
   ]
  },
  {
   "cell_type": "code",
   "execution_count": 29,
   "metadata": {},
   "outputs": [],
   "source": [
    "ols_features =[\n",
    "    'pct_pacific_islander',\n",
    "    'pct_hispanic',\n",
    "    'pct_american_indian',\n",
    "    'pct_asian',\n",
    "    'pct_white',\n",
    "    'pct_black',\n",
    "    'pct_other'\n",
    "]"
   ]
  },
  {
   "cell_type": "code",
   "execution_count": 30,
   "metadata": {},
   "outputs": [],
   "source": [
    "ols_str = \"+\".join(ols_features) + '-1'"
   ]
  },
  {
   "cell_type": "code",
   "execution_count": 31,
   "metadata": {},
   "outputs": [
    {
     "name": "stdout",
     "output_type": "stream",
     "text": [
      "                                 OLS Regression Results                                \n",
      "=======================================================================================\n",
      "Dep. Variable:       PERCENT_POSITIVE   R-squared (uncentered):                   0.447\n",
      "Model:                            OLS   Adj. R-squared (uncentered):              0.423\n",
      "Method:                 Least Squares   F-statistic:                              18.57\n",
      "Date:                Wed, 15 Jul 2020   Prob (F-statistic):                    5.16e-18\n",
      "Time:                        13:03:02   Log-Likelihood:                         -682.36\n",
      "No. Observations:                 168   AIC:                                      1379.\n",
      "Df Residuals:                     161   BIC:                                      1401.\n",
      "Df Model:                           7                                                  \n",
      "Covariance Type:            nonrobust                                                  \n",
      "========================================================================================\n",
      "                           coef    std err          t      P>|t|      [0.025      0.975]\n",
      "----------------------------------------------------------------------------------------\n",
      "pct_pacific_islander   212.9789    521.938      0.408      0.684    -817.748    1243.706\n",
      "pct_hispanic            20.1443      6.305      3.195      0.002       7.694      32.595\n",
      "pct_american_indian     31.5447     74.736      0.422      0.674    -116.044     179.133\n",
      "pct_asian               10.1647      4.549      2.234      0.027       1.181      19.148\n",
      "pct_white               18.9778      3.791      5.006      0.000      11.491      26.464\n",
      "pct_black               20.6284      4.997      4.128      0.000      10.760      30.497\n",
      "pct_other               15.1699     16.694      0.909      0.365     -17.797      48.137\n",
      "==============================================================================\n",
      "Omnibus:                       54.884   Durbin-Watson:                   0.639\n",
      "Prob(Omnibus):                  0.000   Jarque-Bera (JB):                9.236\n",
      "Skew:                           0.024   Prob(JB):                      0.00987\n",
      "Kurtosis:                       1.852   Cond. No.                         159.\n",
      "==============================================================================\n",
      "\n",
      "Warnings:\n",
      "[1] Standard Errors assume that the covariance matrix of the errors is correctly specified.\n"
     ]
    }
   ],
   "source": [
    "lm = smf.ols(formula='PERCENT_POSITIVE ~ ' + ols_str, data = covid_demo).fit()\n",
    "print(lm.summary())"
   ]
  },
  {
   "cell_type": "code",
   "execution_count": 32,
   "metadata": {},
   "outputs": [
    {
     "name": "stdout",
     "output_type": "stream",
     "text": [
      "                                 OLS Regression Results                                \n",
      "=======================================================================================\n",
      "Dep. Variable:        COVID_CASE_RATE   R-squared (uncentered):                   0.471\n",
      "Model:                            OLS   Adj. R-squared (uncentered):              0.449\n",
      "Method:                 Least Squares   F-statistic:                              20.52\n",
      "Date:                Wed, 15 Jul 2020   Prob (F-statistic):                    1.48e-19\n",
      "Time:                        13:03:02   Log-Likelihood:                         -1501.9\n",
      "No. Observations:                 168   AIC:                                      3018.\n",
      "Df Residuals:                     161   BIC:                                      3040.\n",
      "Df Model:                           7                                                  \n",
      "Covariance Type:            nonrobust                                                  \n",
      "========================================================================================\n",
      "                           coef    std err          t      P>|t|      [0.025      0.975]\n",
      "----------------------------------------------------------------------------------------\n",
      "pct_pacific_islander  5.001e+04   6.86e+04      0.729      0.467   -8.54e+04    1.85e+05\n",
      "pct_hispanic          3628.5506    828.538      4.379      0.000    1992.346    5264.755\n",
      "pct_american_indian   2421.6707   9821.511      0.247      0.806    -1.7e+04    2.18e+04\n",
      "pct_asian             1360.9767    597.811      2.277      0.024     180.415    2541.538\n",
      "pct_white             2628.7258    498.213      5.276      0.000    1644.852    3612.600\n",
      "pct_black             2351.6960    656.699      3.581      0.000    1054.842    3648.550\n",
      "pct_other              803.8620   2193.863      0.366      0.715   -3528.597    5136.321\n",
      "==============================================================================\n",
      "Omnibus:                       12.920   Durbin-Watson:                   0.651\n",
      "Prob(Omnibus):                  0.002   Jarque-Bera (JB):                4.986\n",
      "Skew:                           0.081   Prob(JB):                       0.0826\n",
      "Kurtosis:                       2.172   Cond. No.                         159.\n",
      "==============================================================================\n",
      "\n",
      "Warnings:\n",
      "[1] Standard Errors assume that the covariance matrix of the errors is correctly specified.\n"
     ]
    }
   ],
   "source": [
    "lm = smf.ols(formula='COVID_CASE_RATE ~ ' + ols_str, data = covid_demo).fit()\n",
    "print(lm.summary())"
   ]
  },
  {
   "cell_type": "code",
   "execution_count": 33,
   "metadata": {},
   "outputs": [
    {
     "name": "stdout",
     "output_type": "stream",
     "text": [
      "                                 OLS Regression Results                                \n",
      "=======================================================================================\n",
      "Dep. Variable:       COVID_DEATH_RATE   R-squared (uncentered):                   0.459\n",
      "Model:                            OLS   Adj. R-squared (uncentered):              0.436\n",
      "Method:                 Least Squares   F-statistic:                              19.53\n",
      "Date:                Wed, 15 Jul 2020   Prob (F-statistic):                    8.82e-19\n",
      "Time:                        13:03:02   Log-Likelihood:                         -1104.7\n",
      "No. Observations:                 168   AIC:                                      2223.\n",
      "Df Residuals:                     161   BIC:                                      2245.\n",
      "Df Model:                           7                                                  \n",
      "Covariance Type:            nonrobust                                                  \n",
      "========================================================================================\n",
      "                           coef    std err          t      P>|t|      [0.025      0.975]\n",
      "----------------------------------------------------------------------------------------\n",
      "pct_pacific_islander   139.1293   6448.286      0.022      0.983   -1.26e+04    1.29e+04\n",
      "pct_hispanic           311.0029     77.891      3.993      0.000     157.183     464.823\n",
      "pct_american_indian    350.1792    923.321      0.379      0.705   -1473.202    2173.560\n",
      "pct_asian               97.4912     56.200      1.735      0.085     -13.493     208.476\n",
      "pct_white              238.2969     46.837      5.088      0.000     145.803     330.791\n",
      "pct_black              224.2046     61.736      3.632      0.000     102.287     346.122\n",
      "pct_other              238.1030    206.245      1.154      0.250    -169.192     645.398\n",
      "==============================================================================\n",
      "Omnibus:                       13.898   Durbin-Watson:                   0.823\n",
      "Prob(Omnibus):                  0.001   Jarque-Bera (JB):               18.912\n",
      "Skew:                           0.510   Prob(JB):                     7.82e-05\n",
      "Kurtosis:                       4.290   Cond. No.                         159.\n",
      "==============================================================================\n",
      "\n",
      "Warnings:\n",
      "[1] Standard Errors assume that the covariance matrix of the errors is correctly specified.\n"
     ]
    }
   ],
   "source": [
    "lm = smf.ols(formula='COVID_DEATH_RATE ~ ' + ols_str, data = covid_demo).fit()\n",
    "print(lm.summary())"
   ]
  },
  {
   "cell_type": "markdown",
   "metadata": {},
   "source": [
    "#### Brooklyn Environmental"
   ]
  },
  {
   "cell_type": "code",
   "execution_count": 34,
   "metadata": {},
   "outputs": [],
   "source": [
    "medical = pd.read_csv('facility per person.csv')\n",
    "medical['ZIPCODE'] = medical['ZIPCODE'].astype(str)\n",
    "medical = medical.rename(columns={'ZIPCODE':'zipcode','facilities per 100,000 person':'facilities_per_100000','POPULATION':'population_na'})"
   ]
  },
  {
   "cell_type": "code",
   "execution_count": 35,
   "metadata": {},
   "outputs": [],
   "source": [
    "parks = pd.read_csv('park.csv')\n",
    "parks['ZIPCODE'] = parks['ZIPCODE'].astype(str)\n",
    "parks = parks.rename(columns={'ZIPCODE':'zipcode','park/sqft':'park_sqft','park/pop':'park_pop'})"
   ]
  },
  {
   "cell_type": "code",
   "execution_count": 36,
   "metadata": {},
   "outputs": [],
   "source": [
    "air = pd.read_csv('air_pollution.csv')\n",
    "air['ZIPCODE'] = air['ZIPCODE'].astype(str)\n",
    "air = air.rename(columns={'ZIPCODE':'zipcode'})"
   ]
  },
  {
   "cell_type": "code",
   "execution_count": 39,
   "metadata": {},
   "outputs": [],
   "source": [
    "trees = pd.read_csv('tree_count_calc.csv')\n",
    "trees['ZIPCODE'] = trees['ZIPCODE'].astype(str)\n",
    "trees = trees.rename(columns={'ZIPCODE':'zipcode','tree/sqft':'tree_sqft'})\n",
    "trees['tree_1000_sqft'] = trees['tree_sqft']*1000"
   ]
  },
  {
   "cell_type": "code",
   "execution_count": 42,
   "metadata": {},
   "outputs": [],
   "source": [
    "call_311 = pd.read_csv('brooklyn_311_covid.csv')\n",
    "call_311['zipcode'] = call_311['zipcode'].astype(str)"
   ]
  },
  {
   "cell_type": "code",
   "execution_count": 90,
   "metadata": {},
   "outputs": [],
   "source": [
    "income = data3[['median_household_income','zipcode']]"
   ]
  },
  {
   "cell_type": "code",
   "execution_count": 92,
   "metadata": {},
   "outputs": [],
   "source": [
    "data_frames = [covid, parks, air, trees, medical, call_311,income]"
   ]
  },
  {
   "cell_type": "code",
   "execution_count": 93,
   "metadata": {},
   "outputs": [],
   "source": [
    "df_merged = reduce(lambda  left,right: pd.merge(left,right,on=['zipcode'],how='inner'), data_frames)"
   ]
  },
  {
   "cell_type": "code",
   "execution_count": 94,
   "metadata": {},
   "outputs": [],
   "source": [
    "df_merged['area_sqmi'] = df_merged['AREA'] / (5280*5280)"
   ]
  },
  {
   "cell_type": "code",
   "execution_count": 95,
   "metadata": {},
   "outputs": [],
   "source": [
    "df_merged['pop_density'] = df_merged['POPULATION'] / df_merged['area_sqmi']"
   ]
  },
  {
   "cell_type": "code",
   "execution_count": 96,
   "metadata": {},
   "outputs": [],
   "source": [
    "df_merged['tree_per_sqmi'] = df_merged['tree_count'] / df_merged['area_sqmi']"
   ]
  },
  {
   "cell_type": "code",
   "execution_count": 97,
   "metadata": {},
   "outputs": [],
   "source": [
    "df_merged['park_sqmi'] = df_merged['shape_ar_1'] / (5280*5280)"
   ]
  },
  {
   "cell_type": "code",
   "execution_count": 98,
   "metadata": {},
   "outputs": [],
   "source": [
    "df_merged['park_per_person'] = df_merged['park_sqmi'] / df_merged['POPULATION']"
   ]
  },
  {
   "cell_type": "code",
   "execution_count": 76,
   "metadata": {},
   "outputs": [],
   "source": [
    "df_merged['park_per_area'] = df_merged['park_sqmi'] / df_merged['area_sqmi']"
   ]
  },
  {
   "cell_type": "code",
   "execution_count": 112,
   "metadata": {},
   "outputs": [],
   "source": [
    "df_merged['median_household_income'] = df_merged['median_household_income'].astype(float)"
   ]
  },
  {
   "cell_type": "code",
   "execution_count": 113,
   "metadata": {},
   "outputs": [],
   "source": [
    "ols_features =[\n",
    "    'park_sqmi',\n",
    "    'park_per_person',\n",
    "    '_mean', \n",
    "    'tree_count',\n",
    "    'tree_per_sqmi',\n",
    "    'pop_density', #people/sqmi\n",
    "    'facilities_per_100000',\n",
    "    'count_2020',\n",
    "    'median_household_income'\n",
    "]"
   ]
  },
  {
   "cell_type": "code",
   "execution_count": 114,
   "metadata": {},
   "outputs": [],
   "source": [
    "ols_str = \"+\".join(ols_features) + '-1'"
   ]
  },
  {
   "cell_type": "code",
   "execution_count": 115,
   "metadata": {},
   "outputs": [
    {
     "name": "stdout",
     "output_type": "stream",
     "text": [
      "                                 OLS Regression Results                                \n",
      "=======================================================================================\n",
      "Dep. Variable:       PERCENT_POSITIVE   R-squared (uncentered):                   0.975\n",
      "Model:                            OLS   Adj. R-squared (uncentered):              0.968\n",
      "Method:                 Least Squares   F-statistic:                              150.6\n",
      "Date:                Wed, 15 Jul 2020   Prob (F-statistic):                    2.80e-25\n",
      "Time:                        13:17:33   Log-Likelihood:                         -105.22\n",
      "No. Observations:                  44   AIC:                                      228.4\n",
      "Df Residuals:                      35   BIC:                                      244.5\n",
      "Df Model:                           9                                                  \n",
      "Covariance Type:            nonrobust                                                  \n",
      "===========================================================================================\n",
      "                              coef    std err          t      P>|t|      [0.025      0.975]\n",
      "-------------------------------------------------------------------------------------------\n",
      "park_sqmi                 -11.1931      5.343     -2.095      0.043     -22.039      -0.347\n",
      "park_per_person           7.85e+05   2.55e+05      3.077      0.004    2.67e+05     1.3e+06\n",
      "_mean                       1.9681      0.434      4.530      0.000       1.086       2.850\n",
      "tree_count                  0.0024      0.001      4.330      0.000       0.001       0.004\n",
      "tree_per_sqmi              -0.0032      0.001     -2.251      0.031      -0.006      -0.000\n",
      "pop_density                 0.0002   7.98e-05      2.845      0.007     6.5e-05       0.000\n",
      "facilities_per_100000      -0.0230      0.075     -0.306      0.761      -0.176       0.130\n",
      "count_2020                 -0.0006      0.000     -1.516      0.139      -0.001       0.000\n",
      "median_household_income  -9.78e-05   3.01e-05     -3.247      0.003      -0.000   -3.66e-05\n",
      "==============================================================================\n",
      "Omnibus:                        0.116   Durbin-Watson:                   1.710\n",
      "Prob(Omnibus):                  0.944   Jarque-Bera (JB):                0.013\n",
      "Skew:                           0.024   Prob(JB):                        0.994\n",
      "Kurtosis:                       2.931   Cond. No.                     4.58e+10\n",
      "==============================================================================\n",
      "\n",
      "Warnings:\n",
      "[1] Standard Errors assume that the covariance matrix of the errors is correctly specified.\n",
      "[2] The condition number is large, 4.58e+10. This might indicate that there are\n",
      "strong multicollinearity or other numerical problems.\n"
     ]
    }
   ],
   "source": [
    "lm = smf.ols(formula='PERCENT_POSITIVE ~ ' + ols_str, data = df_merged).fit()\n",
    "print(lm.summary())"
   ]
  },
  {
   "cell_type": "code",
   "execution_count": 117,
   "metadata": {},
   "outputs": [
    {
     "name": "stdout",
     "output_type": "stream",
     "text": [
      "                                 OLS Regression Results                                \n",
      "=======================================================================================\n",
      "Dep. Variable:        COVID_CASE_RATE   R-squared (uncentered):                   0.965\n",
      "Model:                            OLS   Adj. R-squared (uncentered):              0.956\n",
      "Method:                 Least Squares   F-statistic:                              106.9\n",
      "Date:                Wed, 15 Jul 2020   Prob (F-statistic):                    9.06e-23\n",
      "Time:                        13:17:45   Log-Likelihood:                         -325.49\n",
      "No. Observations:                  44   AIC:                                      669.0\n",
      "Df Residuals:                      35   BIC:                                      685.0\n",
      "Df Model:                           9                                                  \n",
      "Covariance Type:            nonrobust                                                  \n",
      "===========================================================================================\n",
      "                              coef    std err          t      P>|t|      [0.025      0.975]\n",
      "-------------------------------------------------------------------------------------------\n",
      "park_sqmi               -3512.1811    797.885     -4.402      0.000   -5131.974   -1892.389\n",
      "park_per_person          2.043e+08   3.81e+07      5.363      0.000    1.27e+08    2.82e+08\n",
      "_mean                     200.1093     64.882      3.084      0.004      68.392     331.826\n",
      "tree_count                  0.4284      0.083      5.190      0.000       0.261       0.596\n",
      "tree_per_sqmi              -0.6484      0.216     -3.007      0.005      -1.086      -0.211\n",
      "pop_density                 0.0396      0.012      3.322      0.002       0.015       0.064\n",
      "facilities_per_100000       6.6049     11.238      0.588      0.560     -16.209      29.419\n",
      "count_2020                 -0.1014      0.055     -1.859      0.071      -0.212       0.009\n",
      "median_household_income    -0.0117      0.004     -2.599      0.014      -0.021      -0.003\n",
      "==============================================================================\n",
      "Omnibus:                        1.847   Durbin-Watson:                   1.478\n",
      "Prob(Omnibus):                  0.397   Jarque-Bera (JB):                1.028\n",
      "Skew:                          -0.334   Prob(JB):                        0.598\n",
      "Kurtosis:                       3.338   Cond. No.                     4.58e+10\n",
      "==============================================================================\n",
      "\n",
      "Warnings:\n",
      "[1] Standard Errors assume that the covariance matrix of the errors is correctly specified.\n",
      "[2] The condition number is large, 4.58e+10. This might indicate that there are\n",
      "strong multicollinearity or other numerical problems.\n"
     ]
    }
   ],
   "source": [
    "lm = smf.ols(formula='COVID_CASE_RATE ~ ' + ols_str, data = df_merged).fit()\n",
    "print(lm.summary())"
   ]
  },
  {
   "cell_type": "code",
   "execution_count": 118,
   "metadata": {},
   "outputs": [
    {
     "name": "stdout",
     "output_type": "stream",
     "text": [
      "                                 OLS Regression Results                                \n",
      "=======================================================================================\n",
      "Dep. Variable:       COVID_DEATH_RATE   R-squared (uncentered):                   0.918\n",
      "Model:                            OLS   Adj. R-squared (uncentered):              0.896\n",
      "Method:                 Least Squares   F-statistic:                              43.28\n",
      "Date:                Wed, 15 Jul 2020   Prob (F-statistic):                    2.38e-16\n",
      "Time:                        13:17:47   Log-Likelihood:                         -246.43\n",
      "No. Observations:                  44   AIC:                                      510.9\n",
      "Df Residuals:                      35   BIC:                                      526.9\n",
      "Df Model:                           9                                                  \n",
      "Covariance Type:            nonrobust                                                  \n",
      "===========================================================================================\n",
      "                              coef    std err          t      P>|t|      [0.025      0.975]\n",
      "-------------------------------------------------------------------------------------------\n",
      "park_sqmi                -484.0154    132.320     -3.658      0.001    -752.639    -215.392\n",
      "park_per_person          3.877e+07   6.32e+06      6.135      0.000    2.59e+07    5.16e+07\n",
      "_mean                      17.3611     10.760      1.614      0.116      -4.483      39.205\n",
      "tree_count                  0.0269      0.014      1.968      0.057      -0.001       0.055\n",
      "tree_per_sqmi              -0.0513      0.036     -1.435      0.160      -0.124       0.021\n",
      "pop_density                 0.0030      0.002      1.522      0.137      -0.001       0.007\n",
      "facilities_per_100000       2.5819      1.864      1.385      0.175      -1.202       6.365\n",
      "count_2020                  0.0053      0.009      0.589      0.560      -0.013       0.024\n",
      "median_household_income    -0.0020      0.001     -2.737      0.010      -0.004      -0.001\n",
      "==============================================================================\n",
      "Omnibus:                        4.325   Durbin-Watson:                   1.386\n",
      "Prob(Omnibus):                  0.115   Jarque-Bera (JB):                3.124\n",
      "Skew:                           0.589   Prob(JB):                        0.210\n",
      "Kurtosis:                       3.561   Cond. No.                     4.58e+10\n",
      "==============================================================================\n",
      "\n",
      "Warnings:\n",
      "[1] Standard Errors assume that the covariance matrix of the errors is correctly specified.\n",
      "[2] The condition number is large, 4.58e+10. This might indicate that there are\n",
      "strong multicollinearity or other numerical problems.\n"
     ]
    }
   ],
   "source": [
    "lm = smf.ols(formula='COVID_DEATH_RATE ~ ' + ols_str, data = df_merged).fit()\n",
    "print(lm.summary())"
   ]
  },
  {
   "cell_type": "code",
   "execution_count": null,
   "metadata": {},
   "outputs": [],
   "source": []
  },
  {
   "cell_type": "code",
   "execution_count": null,
   "metadata": {},
   "outputs": [],
   "source": []
  }
 ],
 "metadata": {
  "kernelspec": {
   "display_name": "Python 3",
   "language": "python",
   "name": "python3"
  },
  "language_info": {
   "codemirror_mode": {
    "name": "ipython",
    "version": 3
   },
   "file_extension": ".py",
   "mimetype": "text/x-python",
   "name": "python",
   "nbconvert_exporter": "python",
   "pygments_lexer": "ipython3",
   "version": "3.7.3"
  }
 },
 "nbformat": 4,
 "nbformat_minor": 2
}
